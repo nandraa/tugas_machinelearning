{
 "cells": [
  {
   "cell_type": "markdown",
   "id": "3410ace6-f042-4355-bbbd-0c7f3b3e3158",
   "metadata": {},
   "source": [
    "# Quiz Python\n",
    "\n",
    "<li> Nama : Ananda Rafi Amanullah </li>\n",
    "<li> Nim  : 1102213017 </li>\n",
    "<li> Kelas: EL-45-07 (EL-44-G5) </li>"
   ]
  },
  {
   "cell_type": "markdown",
   "id": "0915d353-b655-40dc-9504-2cfd4b1bb839",
   "metadata": {},
   "source": [
    "1. Install SK-Learn"
   ]
  },
  {
   "cell_type": "code",
   "execution_count": 2,
   "id": "72a91884-ecaf-44da-b6fb-f990d2a5018c",
   "metadata": {},
   "outputs": [
    {
     "name": "stdout",
     "output_type": "stream",
     "text": [
      "Defaulting to user installation because normal site-packages is not writeable\n",
      "Requirement already satisfied: scikit-learn in c:\\users\\ananda\\appdata\\local\\packages\\pythonsoftwarefoundation.python.3.12_qbz5n2kfra8p0\\localcache\\local-packages\\python312\\site-packages (1.4.1.post1)\n",
      "Requirement already satisfied: numpy<2.0,>=1.19.5 in c:\\users\\ananda\\appdata\\local\\packages\\pythonsoftwarefoundation.python.3.12_qbz5n2kfra8p0\\localcache\\local-packages\\python312\\site-packages (from scikit-learn) (1.26.4)\n",
      "Requirement already satisfied: scipy>=1.6.0 in c:\\users\\ananda\\appdata\\local\\packages\\pythonsoftwarefoundation.python.3.12_qbz5n2kfra8p0\\localcache\\local-packages\\python312\\site-packages (from scikit-learn) (1.12.0)\n",
      "Requirement already satisfied: joblib>=1.2.0 in c:\\users\\ananda\\appdata\\local\\packages\\pythonsoftwarefoundation.python.3.12_qbz5n2kfra8p0\\localcache\\local-packages\\python312\\site-packages (from scikit-learn) (1.3.2)\n",
      "Requirement already satisfied: threadpoolctl>=2.0.0 in c:\\users\\ananda\\appdata\\local\\packages\\pythonsoftwarefoundation.python.3.12_qbz5n2kfra8p0\\localcache\\local-packages\\python312\\site-packages (from scikit-learn) (3.3.0)\n",
      "Note: you may need to restart the kernel to use updated packages.\n"
     ]
    }
   ],
   "source": [
    "pip install -U scikit-learn"
   ]
  },
  {
   "cell_type": "markdown",
   "id": "348c6e6e-830e-4712-8f11-5b5b4891a340",
   "metadata": {},
   "source": [
    "2. Check apakah SK-Learn sudah diinstall"
   ]
  },
  {
   "cell_type": "code",
   "execution_count": 4,
   "id": "dc6304d1-f249-4f18-bdbe-341bec9487dd",
   "metadata": {},
   "outputs": [
    {
     "name": "stdout",
     "output_type": "stream",
     "text": [
      "Package                   Version\n",
      "------------------------- ---------------\n",
      "anyio                     4.3.0\n",
      "argon2-cffi               23.1.0\n",
      "argon2-cffi-bindings      21.2.0\n",
      "arrow                     1.3.0\n",
      "asttokens                 2.4.1\n",
      "async-lru                 2.0.4\n",
      "attrs                     23.2.0\n",
      "Babel                     2.14.0\n",
      "beautifulsoup4            4.12.3\n",
      "bleach                    6.1.0\n",
      "certifi                   2024.2.2\n",
      "cffi                      1.16.0\n",
      "charset-normalizer        3.3.2\n",
      "colorama                  0.4.6\n",
      "comm                      0.2.1\n",
      "contourpy                 1.2.0\n",
      "cycler                    0.12.1\n",
      "debugpy                   1.8.1\n",
      "decorator                 5.1.1\n",
      "defusedxml                0.7.1\n",
      "et-xmlfile                1.1.0\n",
      "executing                 2.0.1\n",
      "fastjsonschema            2.19.1\n",
      "fonttools                 4.49.0\n",
      "fqdn                      1.5.1\n",
      "h11                       0.14.0\n",
      "httpcore                  1.0.4\n",
      "httpx                     0.27.0\n",
      "idna                      3.6\n",
      "ipykernel                 6.29.3\n",
      "ipython                   8.22.1\n",
      "ipywidgets                8.1.2\n",
      "isoduration               20.11.0\n",
      "jedi                      0.19.1\n",
      "Jinja2                    3.1.3\n",
      "joblib                    1.3.2\n",
      "json5                     0.9.17\n",
      "jsonpointer               2.4\n",
      "jsonschema                4.21.1\n",
      "jsonschema-specifications 2023.12.1\n",
      "jupyter                   1.0.0\n",
      "jupyter_client            8.6.0\n",
      "jupyter-console           6.6.3\n",
      "jupyter_core              5.7.1\n",
      "jupyter-events            0.9.0\n",
      "jupyter-lsp               2.2.3\n",
      "jupyter_server            2.12.5\n",
      "jupyter_server_terminals  0.5.2\n",
      "jupyterlab                4.1.2\n",
      "jupyterlab_pygments       0.3.0\n",
      "jupyterlab_server         2.25.3\n",
      "jupyterlab_widgets        3.0.10\n",
      "kiwisolver                1.4.5\n",
      "MarkupSafe                2.1.5\n",
      "matplotlib                3.8.3\n",
      "matplotlib-inline         0.1.6\n",
      "mistune                   3.0.2\n",
      "nbclient                  0.7.4\n",
      "nbconvert                 7.16.1\n",
      "nbformat                  5.9.2\n",
      "nest-asyncio              1.6.0\n",
      "notebook                  7.1.1\n",
      "notebook_shim             0.2.4\n",
      "numpy                     1.26.4\n",
      "openpyxl                  3.1.2\n",
      "overrides                 7.7.0\n",
      "packaging                 23.2\n",
      "pandas                    2.2.1\n",
      "pandocfilters             1.5.1\n",
      "parso                     0.8.3\n",
      "pillow                    10.2.0\n",
      "pip                       24.0\n",
      "platformdirs              4.2.0\n",
      "prometheus_client         0.20.0\n",
      "prompt-toolkit            3.0.43\n",
      "psutil                    5.9.8\n",
      "pure-eval                 0.2.2\n",
      "pycparser                 2.21\n",
      "Pygments                  2.17.2\n",
      "pyparsing                 3.1.1\n",
      "python-dateutil           2.8.2\n",
      "python-json-logger        2.0.7\n",
      "pytz                      2024.1\n",
      "pywin32                   306\n",
      "pywinpty                  2.0.13\n",
      "PyYAML                    6.0.1\n",
      "pyzmq                     25.1.2\n",
      "qtconsole                 5.5.1\n",
      "QtPy                      2.4.1\n",
      "referencing               0.33.0\n",
      "requests                  2.31.0\n",
      "rfc3339-validator         0.1.4\n",
      "rfc3986-validator         0.1.1\n",
      "rpds-py                   0.18.0\n",
      "scikit-learn              1.4.1.post1\n",
      "scipy                     1.12.0\n",
      "seaborn                   0.13.2\n",
      "Send2Trash                1.8.2\n",
      "six                       1.16.0\n",
      "sniffio                   1.3.1\n",
      "soupsieve                 2.5\n",
      "stack-data                0.6.3\n",
      "terminado                 0.18.0\n",
      "threadpoolctl             3.3.0\n",
      "tinycss2                  1.2.1\n",
      "tornado                   6.4\n",
      "traitlets                 5.14.1\n",
      "types-python-dateutil     2.8.19.20240106\n",
      "tzdata                    2024.1\n",
      "uri-template              1.3.0\n",
      "urllib3                   2.2.1\n",
      "voila                     0.5.5\n",
      "wcwidth                   0.2.13\n",
      "webcolors                 1.13\n",
      "webencodings              0.5.1\n",
      "websocket-client          1.7.0\n",
      "websockets                12.0\n",
      "widgetsnbextension        4.0.10\n",
      "Note: you may need to restart the kernel to use updated packages.\n"
     ]
    }
   ],
   "source": [
    "pip list"
   ]
  },
  {
   "cell_type": "markdown",
   "id": "0ae4483e-2335-44d9-8a37-23f0160faeda",
   "metadata": {},
   "source": [
    "3. Buat Array 1 dimensi, isi dari array dibebaskan namun harus berupa integer atau float dengan menggunakan numpy."
   ]
  },
  {
   "cell_type": "code",
   "execution_count": 15,
   "id": "8cb96ff1",
   "metadata": {},
   "outputs": [
    {
     "name": "stdout",
     "output_type": "stream",
     "text": [
      "Dimensi Array 1\n",
      "Shape Array (5,)\n",
      "[1000.     3.     5.2   -2.    99. ]\n"
     ]
    }
   ],
   "source": [
    "import numpy as np\n",
    "\n",
    "arr = np.array([1000, 3, 5.2, -2, 99])\n",
    "print(\"Dimensi Array\", arr.ndim)\n",
    "print(\"Shape Array\", arr.shape)\n",
    "print(arr)"
   ]
  },
  {
   "cell_type": "markdown",
   "id": "3155dc33",
   "metadata": {},
   "source": [
    "4. Buatlah array 2 dimensi dengan  ukuran sesuai NIM dan keluarkan shapenya. NIM Ganjil 2x10, NIM Genap 3x10."
   ]
  },
  {
   "cell_type": "code",
   "execution_count": 14,
   "id": "183a0a6f-05bd-48f8-a86d-ba67da19868d",
   "metadata": {},
   "outputs": [
    {
     "name": "stdout",
     "output_type": "stream",
     "text": [
      "Dimensi Array 2\n",
      "Shape Array (2, 10)\n",
      "[ 1.   3.   5.2 -2.  99.   2.   3.4  5.6  5.   0. ]\n",
      "[100.     3.09   3.     6.     6.5    7.7    8.5    2.     8.     6.  ]\n"
     ]
    }
   ],
   "source": [
    "arr1 = np.array([[1, 3, 5.2, -2, 99,2,3.4,5.6,5,0],[100,3.09,3,6,6.5,7.7,8.5,2,8.0,6]])\n",
    "print(\"Dimensi Array\", arr1.ndim)\n",
    "print(\"Shape Array\", arr1.shape)\n",
    "print(arr1[0])\n",
    "print(arr1[1])"
   ]
  },
  {
   "cell_type": "markdown",
   "id": "0687c9ea",
   "metadata": {},
   "source": [
    "5. Buatlah plot data dari **spesifik data array** yang ada dinomer 4. NIM Ganjil : kolom 0, NIM Genap :kolom 1"
   ]
  },
  {
   "cell_type": "code",
   "execution_count": 2,
   "id": "1e1ddbe9",
   "metadata": {},
   "outputs": [
    {
     "ename": "NameError",
     "evalue": "name 'arr1' is not defined",
     "output_type": "error",
     "traceback": [
      "\u001b[1;31m---------------------------------------------------------------------------\u001b[0m",
      "\u001b[1;31mNameError\u001b[0m                                 Traceback (most recent call last)",
      "Cell \u001b[1;32mIn[2], line 7\u001b[0m\n\u001b[0;32m      4\u001b[0m data_array \u001b[38;5;241m=\u001b[39m [\u001b[38;5;241m1\u001b[39m, \u001b[38;5;241m2\u001b[39m, \u001b[38;5;241m3\u001b[39m, \u001b[38;5;241m4\u001b[39m, \u001b[38;5;241m5\u001b[39m, \u001b[38;5;241m6\u001b[39m, \u001b[38;5;241m7\u001b[39m, \u001b[38;5;241m8\u001b[39m, \u001b[38;5;241m9\u001b[39m, \u001b[38;5;241m10\u001b[39m]\n\u001b[0;32m      6\u001b[0m \u001b[38;5;66;03m# Plot data array\u001b[39;00m\n\u001b[1;32m----> 7\u001b[0m plt\u001b[38;5;241m.\u001b[39mplot(\u001b[43marr1\u001b[49m[\u001b[38;5;241m0\u001b[39m])\n\u001b[0;32m      8\u001b[0m plt\u001b[38;5;241m.\u001b[39mxlabel(\u001b[38;5;124m'\u001b[39m\u001b[38;5;124mIndeks Data\u001b[39m\u001b[38;5;124m'\u001b[39m)\n\u001b[0;32m      9\u001b[0m plt\u001b[38;5;241m.\u001b[39mylabel(\u001b[38;5;124m'\u001b[39m\u001b[38;5;124mNilai\u001b[39m\u001b[38;5;124m'\u001b[39m)\n",
      "\u001b[1;31mNameError\u001b[0m: name 'arr1' is not defined"
     ]
    }
   ],
   "source": [
    "import matplotlib.pyplot as plt\n",
    "\n",
    "# Contoh data array\n",
    "data_array = [1, 2, 3, 4, 5, 6, 7, 8, 9, 10]\n",
    "\n",
    "# Plot data array\n",
    "plt.plot(data_array)\n",
    "plt.xlabel('Indeks Data')\n",
    "plt.ylabel('Nilai')\n",
    "plt.title('Plot Data Array')\n",
    "plt.grid(True)\n",
    "plt.show()\n"
   ]
  },
  {
   "cell_type": "markdown",
   "id": "76d6a3db-dfdb-4944-a3cd-8a8e26a5e7eb",
   "metadata": {},
   "source": [
    "6. Berapakah rata-rata, nilai maksimum, nilai minimum, median dari array yang kalian buat dengan menggunakan numpy?"
   ]
  },
  {
   "cell_type": "code",
   "execution_count": 29,
   "id": "3cfdc5d7-cf36-41d5-a5fd-a82c607c0617",
   "metadata": {},
   "outputs": [
    {
     "name": "stdout",
     "output_type": "stream",
     "text": [
      "Nilai Rata Rata adalah :  13.6495\n",
      "Nilai Minimumnya adalah :  100.0\n",
      "Nilai maximumnya adalah  -2.0\n",
      "Nilai Minimumnya adalah :  5.1\n"
     ]
    }
   ],
   "source": [
    "import numpy as np\n",
    "\n",
    "mean = np.mean(arr1)\n",
    "max = np.max(arr1)\n",
    "min = np.min(arr1)\n",
    "median = np.median(arr1)\n",
    " \n",
    "print('Nilai Rata Rata adalah : ', \n",
    "      mean)\n",
    "print('Nilai Minimumnya adalah : ', \n",
    "      max)\n",
    "print('Nilai maximumnya adalah ',\n",
    "      min)\n",
    "print('Nilai Minimumnya adalah : ', \n",
    "      median)"
   ]
  },
  {
   "cell_type": "code",
   "execution_count": 35,
   "id": "b19a4c65",
   "metadata": {},
   "outputs": [],
   "source": [
    "NameGanjil = \"Khairulah Kodir\" #NIM Ganjil\n",
    "NameGenap = \"Annisa Kodir\" #NIM Genap"
   ]
  },
  {
   "cell_type": "markdown",
   "id": "5ea88467",
   "metadata": {},
   "source": [
    "7. print nama terakhir dari variable diatas seperti \"Hallo Mr. Kodir\" atau \"Hallo Mrs. Kodir\""
   ]
  },
  {
   "cell_type": "code",
   "execution_count": 36,
   "id": "d6903624",
   "metadata": {},
   "outputs": [
    {
     "data": {
      "text/plain": [
       "'Hallo Mr.Kodir'"
      ]
     },
     "execution_count": 36,
     "metadata": {},
     "output_type": "execute_result"
    }
   ],
   "source": [
    "nama = 'Hallo Mr.' + NameGanjil[10:]\n",
    "nama"
   ]
  },
  {
   "cell_type": "markdown",
   "id": "c6336528",
   "metadata": {},
   "source": [
    "8. Buatlah dataframe dari array 2D di nomer 4 dan berikan nama header setiap kolomnya. Tunjukkan shape dari dataframenya."
   ]
  },
  {
   "cell_type": "code",
   "execution_count": 43,
   "id": "d3ce3246",
   "metadata": {},
   "outputs": [
    {
     "data": {
      "text/html": [
       "<div>\n",
       "<style scoped>\n",
       "    .dataframe tbody tr th:only-of-type {\n",
       "        vertical-align: middle;\n",
       "    }\n",
       "\n",
       "    .dataframe tbody tr th {\n",
       "        vertical-align: top;\n",
       "    }\n",
       "\n",
       "    .dataframe thead th {\n",
       "        text-align: right;\n",
       "    }\n",
       "</style>\n",
       "<table border=\"1\" class=\"dataframe\">\n",
       "  <thead>\n",
       "    <tr style=\"text-align: right;\">\n",
       "      <th></th>\n",
       "      <th>kolom0</th>\n",
       "      <th>kolom1</th>\n",
       "    </tr>\n",
       "  </thead>\n",
       "  <tbody>\n",
       "    <tr>\n",
       "      <th>1</th>\n",
       "      <td>1.0</td>\n",
       "      <td>100.00</td>\n",
       "    </tr>\n",
       "    <tr>\n",
       "      <th>2</th>\n",
       "      <td>3.0</td>\n",
       "      <td>3.09</td>\n",
       "    </tr>\n",
       "    <tr>\n",
       "      <th>3</th>\n",
       "      <td>5.2</td>\n",
       "      <td>3.00</td>\n",
       "    </tr>\n",
       "    <tr>\n",
       "      <th>4</th>\n",
       "      <td>-2.0</td>\n",
       "      <td>6.00</td>\n",
       "    </tr>\n",
       "    <tr>\n",
       "      <th>5</th>\n",
       "      <td>99.0</td>\n",
       "      <td>6.50</td>\n",
       "    </tr>\n",
       "    <tr>\n",
       "      <th>6</th>\n",
       "      <td>3.4</td>\n",
       "      <td>7.70</td>\n",
       "    </tr>\n",
       "    <tr>\n",
       "      <th>7</th>\n",
       "      <td>3.4</td>\n",
       "      <td>8.50</td>\n",
       "    </tr>\n",
       "    <tr>\n",
       "      <th>8</th>\n",
       "      <td>5.6</td>\n",
       "      <td>2.00</td>\n",
       "    </tr>\n",
       "    <tr>\n",
       "      <th>9</th>\n",
       "      <td>5.0</td>\n",
       "      <td>8.00</td>\n",
       "    </tr>\n",
       "    <tr>\n",
       "      <th>10</th>\n",
       "      <td>0.0</td>\n",
       "      <td>6.00</td>\n",
       "    </tr>\n",
       "  </tbody>\n",
       "</table>\n",
       "</div>"
      ],
      "text/plain": [
       "    kolom0  kolom1\n",
       "1      1.0  100.00\n",
       "2      3.0    3.09\n",
       "3      5.2    3.00\n",
       "4     -2.0    6.00\n",
       "5     99.0    6.50\n",
       "6      3.4    7.70\n",
       "7      3.4    8.50\n",
       "8      5.6    2.00\n",
       "9      5.0    8.00\n",
       "10     0.0    6.00"
      ]
     },
     "execution_count": 43,
     "metadata": {},
     "output_type": "execute_result"
    }
   ],
   "source": [
    "import pandas as pd\n",
    "\n",
    "nol = {'1': 1, '2': 3, '3': 5.2,\n",
    "'4': -2, '5': 99,'6':3.4,'7':3.4,'8':5.6,'9':5,'10':0}\n",
    "angka = pd.Series(nol)\n",
    "angka\n",
    "\n",
    "satu = {'1': 100, '2': 3.09, '3': 3,\n",
    "'4': 6, '5': 6.5,'6':7.7,'7':8.5,'8':2,'9':8.0,'10':6}\n",
    "angka1 = pd.Series(satu)\n",
    "angka1\n",
    "#[1, 3, 5.2, -2, 99,2,3.4,5.6,5,0],[100,3.09,3,6,6.5,7.7,8.5,2,8.0,6]\n",
    "\n",
    "tabel = pd.DataFrame({'kolom0': nol,\n",
    "'kolom1': satu})\n",
    "tabel"
   ]
  },
  {
   "cell_type": "markdown",
   "id": "41aecd6c",
   "metadata": {},
   "source": [
    "9. Buatlah plot data dari **spesifik dataframe** yang ada di nomer 8. NIM Ganjil : header 1, NIM Genap :header 0"
   ]
  },
  {
   "cell_type": "code",
   "execution_count": null,
   "id": "181f934d",
   "metadata": {},
   "outputs": [],
   "source": []
  },
  {
   "cell_type": "markdown",
   "id": "4801c339",
   "metadata": {},
   "source": [
    "10. Tambahkan satu kolom dari hasil perhitungan rumus masing-masing tipe NIM. NIM Genap: kolom1<sup>2</sup> +kolom1, NIM Ganjil: kolom2 +kolom1<sup>2</sup>"
   ]
  },
  {
   "cell_type": "code",
   "execution_count": null,
   "id": "b8744a9a",
   "metadata": {},
   "outputs": [],
   "source": []
  },
  {
   "cell_type": "markdown",
   "id": "dd7966e9-92cc-4409-8238-91417aa486f8",
   "metadata": {},
   "source": [
    "11. Buat data series dari array yang dibuat dan beri nama."
   ]
  },
  {
   "cell_type": "code",
   "execution_count": 44,
   "id": "d1a8d498-2273-4209-8479-83af2950d41c",
   "metadata": {},
   "outputs": [
    {
     "data": {
      "text/plain": [
       "Probolinggo     2125151\n",
       "Malang         17171713\n",
       "Pasuruan        1616161\n",
       "Jekarteh          74748\n",
       "Blitar           984584\n",
       "dtype: int64"
      ]
     },
     "execution_count": 44,
     "metadata": {},
     "output_type": "execute_result"
    }
   ],
   "source": [
    "jumlah = {'Probolinggo': 2125151,\n",
    "'Malang': 17171713,\n",
    "'Pasuruan': 1616161,\n",
    "'Jekarteh': 74748,\n",
    "'Blitar': 984584}\n",
    "population = pd.Series(jumlah)\n",
    "population"
   ]
  },
  {
   "cell_type": "markdown",
   "id": "2e588714-0a0e-4fae-b2d7-d3c4f6f497ec",
   "metadata": {},
   "source": [
    "12. Buat satu data series lagi, kemudian gabungkan data series tersebut dengan data series sebelumnya sehingga membuat satu data frame. Kemudian buat Excel dari data frame tersebut."
   ]
  },
  {
   "cell_type": "code",
   "execution_count": 46,
   "id": "be30303f-0467-4601-a3f3-26dfecabeed9",
   "metadata": {},
   "outputs": [
    {
     "data": {
      "text/plain": [
       "Probolinggo      123131\n",
       "Malang          1412512\n",
       "Pasuruan       12717141\n",
       "Jekarteh           5151\n",
       "Blitar           717171\n",
       "dtype: int64"
      ]
     },
     "execution_count": 46,
     "metadata": {},
     "output_type": "execute_result"
    }
   ],
   "source": [
    "wil = {'Probolinggo': 123131, 'Malang': 1412512, 'Pasuruan': 12717141,\n",
    "'Jekarteh': 5151, 'Blitar': 717171}\n",
    "area = pd.Series(wil)\n",
    "area\n"
   ]
  },
  {
   "cell_type": "markdown",
   "id": "660398bf-e15d-4e68-9175-4dddcbf89a4b",
   "metadata": {},
   "source": [
    "13. Upload data Excel yang disediakan di LMS dengan menggunakan pandas."
   ]
  },
  {
   "cell_type": "code",
   "execution_count": 1,
   "id": "31385387-3b5c-4b35-a840-ad41f432fbab",
   "metadata": {},
   "outputs": [
    {
     "data": {
      "text/html": [
       "<div>\n",
       "<style scoped>\n",
       "    .dataframe tbody tr th:only-of-type {\n",
       "        vertical-align: middle;\n",
       "    }\n",
       "\n",
       "    .dataframe tbody tr th {\n",
       "        vertical-align: top;\n",
       "    }\n",
       "\n",
       "    .dataframe thead th {\n",
       "        text-align: right;\n",
       "    }\n",
       "</style>\n",
       "<table border=\"1\" class=\"dataframe\">\n",
       "  <thead>\n",
       "    <tr style=\"text-align: right;\">\n",
       "      <th></th>\n",
       "      <th>Weight</th>\n",
       "      <th>Length1</th>\n",
       "      <th>Length2</th>\n",
       "      <th>Length3</th>\n",
       "      <th>Height</th>\n",
       "      <th>Width</th>\n",
       "      <th>Species</th>\n",
       "    </tr>\n",
       "  </thead>\n",
       "  <tbody>\n",
       "    <tr>\n",
       "      <th>0</th>\n",
       "      <td>242.0</td>\n",
       "      <td>23.2</td>\n",
       "      <td>25.4</td>\n",
       "      <td>30.0</td>\n",
       "      <td>11.5200</td>\n",
       "      <td>4.0200</td>\n",
       "      <td>Bream</td>\n",
       "    </tr>\n",
       "    <tr>\n",
       "      <th>1</th>\n",
       "      <td>290.0</td>\n",
       "      <td>24.0</td>\n",
       "      <td>26.3</td>\n",
       "      <td>31.2</td>\n",
       "      <td>12.4800</td>\n",
       "      <td>4.3056</td>\n",
       "      <td>Bream</td>\n",
       "    </tr>\n",
       "    <tr>\n",
       "      <th>2</th>\n",
       "      <td>340.0</td>\n",
       "      <td>23.9</td>\n",
       "      <td>26.5</td>\n",
       "      <td>31.1</td>\n",
       "      <td>12.3778</td>\n",
       "      <td>4.6961</td>\n",
       "      <td>Bream</td>\n",
       "    </tr>\n",
       "    <tr>\n",
       "      <th>3</th>\n",
       "      <td>363.0</td>\n",
       "      <td>26.3</td>\n",
       "      <td>29.0</td>\n",
       "      <td>33.5</td>\n",
       "      <td>12.7300</td>\n",
       "      <td>4.4555</td>\n",
       "      <td>Bream</td>\n",
       "    </tr>\n",
       "    <tr>\n",
       "      <th>4</th>\n",
       "      <td>430.0</td>\n",
       "      <td>26.5</td>\n",
       "      <td>29.0</td>\n",
       "      <td>34.0</td>\n",
       "      <td>12.4440</td>\n",
       "      <td>5.1340</td>\n",
       "      <td>Bream</td>\n",
       "    </tr>\n",
       "    <tr>\n",
       "      <th>...</th>\n",
       "      <td>...</td>\n",
       "      <td>...</td>\n",
       "      <td>...</td>\n",
       "      <td>...</td>\n",
       "      <td>...</td>\n",
       "      <td>...</td>\n",
       "      <td>...</td>\n",
       "    </tr>\n",
       "    <tr>\n",
       "      <th>154</th>\n",
       "      <td>12.2</td>\n",
       "      <td>11.5</td>\n",
       "      <td>12.2</td>\n",
       "      <td>13.4</td>\n",
       "      <td>2.0904</td>\n",
       "      <td>1.3936</td>\n",
       "      <td>Smelt</td>\n",
       "    </tr>\n",
       "    <tr>\n",
       "      <th>155</th>\n",
       "      <td>13.4</td>\n",
       "      <td>11.7</td>\n",
       "      <td>12.4</td>\n",
       "      <td>13.5</td>\n",
       "      <td>2.4300</td>\n",
       "      <td>1.2690</td>\n",
       "      <td>Smelt</td>\n",
       "    </tr>\n",
       "    <tr>\n",
       "      <th>156</th>\n",
       "      <td>12.2</td>\n",
       "      <td>12.1</td>\n",
       "      <td>13.0</td>\n",
       "      <td>13.8</td>\n",
       "      <td>2.2770</td>\n",
       "      <td>1.2558</td>\n",
       "      <td>Smelt</td>\n",
       "    </tr>\n",
       "    <tr>\n",
       "      <th>157</th>\n",
       "      <td>19.7</td>\n",
       "      <td>13.2</td>\n",
       "      <td>14.3</td>\n",
       "      <td>15.2</td>\n",
       "      <td>2.8728</td>\n",
       "      <td>2.0672</td>\n",
       "      <td>Smelt</td>\n",
       "    </tr>\n",
       "    <tr>\n",
       "      <th>158</th>\n",
       "      <td>19.9</td>\n",
       "      <td>13.8</td>\n",
       "      <td>15.0</td>\n",
       "      <td>16.2</td>\n",
       "      <td>2.9322</td>\n",
       "      <td>1.8792</td>\n",
       "      <td>Smelt</td>\n",
       "    </tr>\n",
       "  </tbody>\n",
       "</table>\n",
       "<p>159 rows × 7 columns</p>\n",
       "</div>"
      ],
      "text/plain": [
       "     Weight  Length1  Length2  Length3   Height   Width Species\n",
       "0     242.0     23.2     25.4     30.0  11.5200  4.0200   Bream\n",
       "1     290.0     24.0     26.3     31.2  12.4800  4.3056   Bream\n",
       "2     340.0     23.9     26.5     31.1  12.3778  4.6961   Bream\n",
       "3     363.0     26.3     29.0     33.5  12.7300  4.4555   Bream\n",
       "4     430.0     26.5     29.0     34.0  12.4440  5.1340   Bream\n",
       "..      ...      ...      ...      ...      ...     ...     ...\n",
       "154    12.2     11.5     12.2     13.4   2.0904  1.3936   Smelt\n",
       "155    13.4     11.7     12.4     13.5   2.4300  1.2690   Smelt\n",
       "156    12.2     12.1     13.0     13.8   2.2770  1.2558   Smelt\n",
       "157    19.7     13.2     14.3     15.2   2.8728  2.0672   Smelt\n",
       "158    19.9     13.8     15.0     16.2   2.9322  1.8792   Smelt\n",
       "\n",
       "[159 rows x 7 columns]"
      ]
     },
     "execution_count": 1,
     "metadata": {},
     "output_type": "execute_result"
    }
   ],
   "source": [
    "import pandas as pd\n",
    "import numpy as np\n",
    "import matplotlib as plot\n",
    "\n",
    "pdFromCSV = pd.read_excel(\"Fish.xlsx\")\n",
    "pdFromCSV"
   ]
  },
  {
   "cell_type": "markdown",
   "id": "d8cae196-a172-4a7b-b6ea-afbc4ae5d202",
   "metadata": {},
   "source": [
    "14. Berapa jumlah data (jumlah row) dari data diatas."
   ]
  },
  {
   "cell_type": "code",
   "execution_count": null,
   "id": "04a4b7a6-f0c2-4cde-859a-cf896271ee38",
   "metadata": {},
   "outputs": [],
   "source": []
  },
  {
   "cell_type": "markdown",
   "id": "028664d4-6781-49bd-b87d-0a5be8e23a8d",
   "metadata": {},
   "source": [
    "15. Tampilkan semua header excel dari data diatas."
   ]
  },
  {
   "cell_type": "code",
   "execution_count": null,
   "id": "02857a6a-328a-423f-9eb8-adcf15e7bc34",
   "metadata": {},
   "outputs": [],
   "source": []
  },
  {
   "cell_type": "markdown",
   "id": "e59c9f81-716c-4d6d-b3e0-3748a5b974b5",
   "metadata": {},
   "source": [
    "16. Siapkan data yang digunakan untuk dijalankan di training di Machine Learning, dimana x = Fitur dan y = lebel."
   ]
  },
  {
   "cell_type": "code",
   "execution_count": null,
   "id": "4fe9359d-f5fe-4460-b987-b4806d0b350f",
   "metadata": {},
   "outputs": [],
   "source": []
  },
  {
   "cell_type": "markdown",
   "id": "1b1d7557-112b-4152-9a3e-4c1639110afa",
   "metadata": {},
   "source": [
    "### Soal Tambahan"
   ]
  },
  {
   "cell_type": "markdown",
   "id": "8be53fc8-4c88-4231-ba2b-59516c62a379",
   "metadata": {},
   "source": [
    "Ubah species string menjadi column integer dengan menggunakan LabelEncoder pada sklearn.preprocessing, lalu buat 2 ploting dimana sumbu x merupakan Height atau Width dan Y merupakan  jenis ikannya (species). "
   ]
  },
  {
   "cell_type": "code",
   "execution_count": null,
   "id": "70722fb4-74f5-4af9-84e6-631614cc2f1c",
   "metadata": {},
   "outputs": [],
   "source": []
  },
  {
   "cell_type": "code",
   "execution_count": null,
   "id": "f95d841e-72f7-4e6e-a6d0-17a9e4d38115",
   "metadata": {},
   "outputs": [],
   "source": []
  },
  {
   "cell_type": "code",
   "execution_count": null,
   "id": "1a7e73bf-0bce-4963-8fb3-a06a66fdf1eb",
   "metadata": {},
   "outputs": [],
   "source": []
  }
 ],
 "metadata": {
  "kernelspec": {
   "display_name": "Python 3",
   "language": "python",
   "name": "python3"
  },
  "language_info": {
   "codemirror_mode": {
    "name": "ipython",
    "version": 3
   },
   "file_extension": ".py",
   "mimetype": "text/x-python",
   "name": "python",
   "nbconvert_exporter": "python",
   "pygments_lexer": "ipython3",
   "version": "3.12.2"
  }
 },
 "nbformat": 4,
 "nbformat_minor": 5
}
